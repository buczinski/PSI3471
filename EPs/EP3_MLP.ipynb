{
  "cells": [
    {
      "cell_type": "markdown",
      "source": [
        "# Exercício 3 - MLP\n",
        "\n",
        "Pedro Buczinski: 12555266 \\\\\n",
        "César Lima: 12703142"
      ],
      "metadata": {
        "id": "ptJ3a_OgFHRt"
      },
      "id": "ptJ3a_OgFHRt"
    },
    {
      "cell_type": "markdown",
      "id": "1e6afad9-08b6-43e1-bfae-29aaae6b526b",
      "metadata": {
        "id": "1e6afad9-08b6-43e1-bfae-29aaae6b526b"
      },
      "source": [
        "Inclusão das Bibliotecas"
      ]
    },
    {
      "cell_type": "code",
      "execution_count": null,
      "id": "e02b3a2e-539c-453f-a366-45945280dee6",
      "metadata": {
        "id": "e02b3a2e-539c-453f-a366-45945280dee6"
      },
      "outputs": [],
      "source": [
        "import numpy as np\n",
        "import matplotlib.pyplot as plt\n",
        "import pandas as pd\n",
        "from tabulate import tabulate"
      ]
    },
    {
      "cell_type": "markdown",
      "id": "49e6ef33-1251-4efb-b245-f17bfcc91acf",
      "metadata": {
        "id": "49e6ef33-1251-4efb-b245-f17bfcc91acf"
      },
      "source": [
        "Declaracao da função de ativação dos neurônios"
      ]
    },
    {
      "cell_type": "code",
      "execution_count": null,
      "id": "59251ad4-ebe2-4667-9d0f-45cddf616527",
      "metadata": {
        "id": "59251ad4-ebe2-4667-9d0f-45cddf616527"
      },
      "outputs": [],
      "source": [
        "#sigmoid function\n",
        "def sigmoid(X):\n",
        "   return 1/(1+np.exp(-X))"
      ]
    },
    {
      "cell_type": "markdown",
      "id": "ab187f5f-bf1d-4f0b-a9df-4a1f723bf920",
      "metadata": {
        "id": "ab187f5f-bf1d-4f0b-a9df-4a1f723bf920"
      },
      "source": [
        "# Primeira Função"
      ]
    },
    {
      "cell_type": "markdown",
      "id": "6dcbc9ab-6e19-462d-a5bc-756f4baa65f1",
      "metadata": {
        "id": "6dcbc9ab-6e19-462d-a5bc-756f4baa65f1"
      },
      "source": [
        "Criação dos dados de treinamento - Entre 1000 e 10000"
      ]
    },
    {
      "cell_type": "code",
      "execution_count": null,
      "id": "921cb66d-2db4-418b-9a7b-e95fd5cef64e",
      "metadata": {
        "id": "921cb66d-2db4-418b-9a7b-e95fd5cef64e",
        "outputId": "f0dea0bd-22eb-4cd3-b740-bae5ff0601db",
        "colab": {
          "base_uri": "https://localhost:8080/"
        }
      },
      "outputs": [
        {
          "output_type": "stream",
          "name": "stdout",
          "text": [
            "(5500, 1)\n"
          ]
        }
      ],
      "source": [
        "Nt = 5500\n",
        "dominio = np.linspace(1, 100, Nt, endpoint=True)\n",
        "x_1 = dominio.reshape(Nt, 1)\n",
        "function_1 = lambda x : 1/x\n",
        "d_1 = function_1(dominio)\n",
        "d_1 = d_1.reshape(Nt, 1)\n",
        "print(d_1.shape)"
      ]
    },
    {
      "cell_type": "markdown",
      "id": "f556c728-6e30-456d-b402-d77b85f5fc54",
      "metadata": {
        "id": "f556c728-6e30-456d-b402-d77b85f5fc54"
      },
      "source": [
        "Criação da função de treinamento da rede neural"
      ]
    },
    {
      "cell_type": "code",
      "execution_count": null,
      "id": "9b27ae1a-68eb-49da-9695-9e81faa1b577",
      "metadata": {
        "id": "9b27ae1a-68eb-49da-9695-9e81faa1b577"
      },
      "outputs": [],
      "source": [
        "def redeMLP_21(x, d, eta, Nt, Nb, Ne, N, W01_2):\n",
        "    \"\"\"\n",
        "    J_MSE, W1_1, W2_1, W1_2 = redeMLP(x, d, Nn, eta, Nt, Nb, Ne, W0)\n",
        "    Saídas:\n",
        "    J_MSE: valor da função custo ao longo das épocas\n",
        "    W1_1: vetor de pesos do neurônio 1 da camada 1\n",
        "    W2_1: vetor de pesos do neurônio 2 da camada 1\n",
        "    W1_2: vetor de pesos do neurônio 1 da camada de saída\n",
        "    Entradas:\n",
        "    x: sinal de entrada\n",
        "    d: sinal desejado\n",
        "    eta: passo de adaptação\n",
        "    Nt: número de dados de treinamento\n",
        "    Nb: tamanho do mini-batch\n",
        "    Ne: número de épocas\n",
        "    N: numero de neuronios da camada oculta\n",
        "    W01_2: vetor de pesos o neurônio 1 da camada de saída (útlima iteração, inclui o bias)\n",
        "    \"\"\"\n",
        "\n",
        "    # número de mini-batches por época\n",
        "    Nmb = int(np.floor(Nt / Nb))\n",
        "\n",
        "    # inicialização dos pesos do neuronio 1 da camada de saida\n",
        "    W1_2 = W01_2.copy()\n",
        "\n",
        "    # passo de adaptação dividido pelo tamanho do mini-batch\n",
        "    eta = eta / Nb\n",
        "\n",
        "    # inicialização do vetor que contém o valor da função custo\n",
        "    J_MSE = np.zeros((Ne, 1))\n",
        "\n",
        "    # Juntamos o vetor de entrada com o sinal desejado e inserimos\n",
        "    # uma coluna de uns para levar em conta o bias\n",
        "    Xd = np.hstack((np.ones((Nt, 1)), x, d))\n",
        "\n",
        "    # vetor de uns para o bias no mini-batch\n",
        "    b = np.ones((Nb, 1))\n",
        "\n",
        "    #Declaracao dos pesos de cada neuronio da camada oculta\n",
        "    w = np.zeros((2, N))\n",
        "    for i in range(N):\n",
        "        w[:, i] = (0.02 * np.random.rand(2) - 0.01)\n",
        "\n",
        "    #Inicializacao dos vetores v_s, y_s e dphi_s dos neuronios da camada oculta\n",
        "    v = np.zeros((N, Nb))\n",
        "    y = np.zeros((N, Nb))\n",
        "    dphis = np.zeros((Nb, N))\n",
        "    delta1_2 = np.zeros((Nb, 1))\n",
        "    delta = np.zeros((N, Nb))\n",
        "\n",
        "    # for das épocas\n",
        "    for k in range(Ne):\n",
        "      # Embaralha os dados\n",
        "      np.random.shuffle(Xd)\n",
        "      X = Xd[:, 0:2]\n",
        "      d = Xd[:, [2]]\n",
        "\n",
        "      for l in range(Nmb):\n",
        "          # Mini-batch\n",
        "          start = l * Nb\n",
        "          end = (l + 1) * Nb\n",
        "          X1mb = X[start:end, :]\n",
        "          dmb = d[start:end]\n",
        "\n",
        "          # Forward Pass - Camada oculta\n",
        "          v = X1mb @ w\n",
        "          y = sigmoid(v)\n",
        "          dphis = y * (1 - y)\n",
        "\n",
        "          # Forward Pass - Saída\n",
        "          X2mb = np.hstack((b, y))  # Inclui bias\n",
        "          v1mb_2 = X2mb @ W1_2.T\n",
        "          y1mb_2 = sigmoid(v1mb_2)\n",
        "          dphi1_2 = y1mb_2 * (1 - y1mb_2)\n",
        "\n",
        "          # Erro e delta da camada de saída\n",
        "          e1mb_2 = dmb - y1mb_2\n",
        "          delta1_2 = dphi1_2 * e1mb_2  # Nb x 1\n",
        "\n",
        "          # Atualização dos pesos da camada de saída\n",
        "          W1_2 += eta * delta1_2.T @ X2mb  # 1 x (N+1)\n",
        "\n",
        "          # Cálculo dos deltas da camada oculta (vetorizado)\n",
        "          delta_hidden = (delta1_2 @ W1_2[:, 1:]) * dphis  # Nb x N\n",
        "\n",
        "          # Atualização dos pesos da camada oculta (vetorizado)\n",
        "          w += X1mb.T @ (eta * delta_hidden)  # 2 x N\n",
        "\n",
        "          # Atualiza erro quadrático médio acumulado\n",
        "          J_MSE[k] += np.sum(e1mb_2 ** 2)\n",
        "\n",
        "      # Cálculo final do MSE na época k\n",
        "      J_MSE[k] /= (Nmb * Nb * 1)\n",
        "\n",
        "      # Debug opcional\n",
        "      #if k % 100 == 0:\n",
        "          # print(f\"Época: {k}, MSE: {J_MSE[k]}\")\n",
        "\n",
        "\n",
        "    return J_MSE, w, W1_2"
      ]
    },
    {
      "cell_type": "markdown",
      "id": "cba24abb-4657-4269-b5e2-7773a09ca0b4",
      "metadata": {
        "id": "cba24abb-4657-4269-b5e2-7773a09ca0b4"
      },
      "source": [
        "Parâmetros de treinamento"
      ]
    },
    {
      "cell_type": "code",
      "execution_count": null,
      "id": "f4b8fd6e-83c4-4570-b999-b1b595a1607f",
      "metadata": {
        "id": "f4b8fd6e-83c4-4570-b999-b1b595a1607f"
      },
      "outputs": [],
      "source": [
        "# Parâmetros da rede\n",
        "\n",
        "# passo de adaptação do algoritmo backpropagation\n",
        "eta = 0.9\n",
        "\n",
        "# Tamanho do mini-batch\n",
        "Nb = 11\n",
        "\n",
        "# Número de épocas\n",
        "Ne = 500"
      ]
    },
    {
      "cell_type": "markdown",
      "id": "0fe7e076-77c9-4261-b9aa-cc7252bdd522",
      "metadata": {
        "id": "0fe7e076-77c9-4261-b9aa-cc7252bdd522"
      },
      "source": [
        "Numero de Neurônios da camada oculta e inicialização dos pesos da camada de saida"
      ]
    },
    {
      "cell_type": "code",
      "execution_count": null,
      "id": "553ff30b-9d7c-44ca-b162-3dd752ad5ec5",
      "metadata": {
        "id": "553ff30b-9d7c-44ca-b162-3dd752ad5ec5"
      },
      "outputs": [],
      "source": [
        "#Número de Neuronios\n",
        "N_3 = 3\n",
        "N_4 = 4\n",
        "N_5 = 5\n",
        "N_10 = 10\n",
        "N_15 = 15\n",
        "N_20 = 20\n",
        "N_50 = 50\n",
        "N_100 = 100\n",
        "\n",
        "# Inicialização doo peso da camada oculta\n",
        "W01_2_3 = 0.02 * np.random.rand(1, N_3 + 1) - 0.01\n",
        "W01_2_4 = 0.02 * np.random.rand(1, N_4 + 1) - 0.01\n",
        "W01_2_5 = 0.02 * np.random.rand(1, N_5 + 1) - 0.01\n",
        "W01_2_10 = 0.02 * np.random.rand(1, N_10 + 1) - 0.01\n",
        "W01_2_15 = 0.02 * np.random.rand(1, N_15 + 1) - 0.01\n",
        "W01_2_20 = 0.02 * np.random.rand(1, N_20 + 1) - 0.01\n",
        "W01_2_50 = 0.02 * np.random.rand(1, N_50 + 1) - 0.01\n",
        "W01_2_100 = 0.02 * np.random.rand(1, N_100 + 1) - 0.01"
      ]
    },
    {
      "cell_type": "markdown",
      "id": "8380ee68-4310-4b0b-9c77-f87264225695",
      "metadata": {
        "id": "8380ee68-4310-4b0b-9c77-f87264225695"
      },
      "source": [
        "Treinamento do modelo para diversos números de neurônios"
      ]
    },
    {
      "cell_type": "code",
      "execution_count": null,
      "id": "cdf8aa60-4ce5-40ec-bdd7-979dcc45b217",
      "metadata": {
        "id": "cdf8aa60-4ce5-40ec-bdd7-979dcc45b217"
      },
      "outputs": [],
      "source": [
        "(J_MSE_3_1, w_3, W1_2_3) = redeMLP_21(x_1, d_1, eta, Nt, Nb, Ne, N_3, W01_2_3)\n",
        "(J_MSE_4_1, w_4, W1_2_4) = redeMLP_21(x_1, d_1, eta, Nt, Nb, Ne, N_4, W01_2_4)\n",
        "(J_MSE_5_1, w_5, W1_2_5) = redeMLP_21(x_1, d_1, eta, Nt, Nb, Ne, N_5, W01_2_5)\n",
        "(J_MSE_10_1, w_10, W1_2_10) = redeMLP_21(x_1, d_1, eta, Nt, Nb, Ne, N_10, W01_2_10)\n",
        "(J_MSE_15_1, w_15, W1_2_15) = redeMLP_21(x_1, d_1, eta, Nt, Nb, Ne, N_15, W01_2_15)\n",
        "(J_MSE_20_1, w_20, W1_2_20) = redeMLP_21(x_1, d_1, eta, Nt, Nb, Ne, N_20, W01_2_20)\n",
        "(J_MSE_50_1, w_50, W1_2_50) = redeMLP_21(x_1, d_1, eta, Nt, Nb, Ne, N_50, W01_2_50)\n",
        "(J_MSE_100_1, w_100, W1_2_100) = redeMLP_21(x_1, d_1, eta, Nt, Nb, Ne, N_100, W01_2_100)"
      ]
    },
    {
      "cell_type": "markdown",
      "source": [],
      "metadata": {
        "id": "ZfaLMLCF1Jsh"
      },
      "id": "ZfaLMLCF1Jsh"
    },
    {
      "cell_type": "markdown",
      "id": "a8f6b94d-ec27-4951-b793-bab759501797",
      "metadata": {
        "id": "a8f6b94d-ec27-4951-b793-bab759501797"
      },
      "source": [
        "Função para teste de uma rede neural com N neurônios na camada oculta"
      ]
    },
    {
      "cell_type": "code",
      "execution_count": null,
      "id": "66e22541-e2b0-4095-a7f4-9986035f6583",
      "metadata": {
        "id": "66e22541-e2b0-4095-a7f4-9986035f6583"
      },
      "outputs": [],
      "source": [
        "def redeMLP_teste_21(x, d, w, W1_2, Nteste, N):\n",
        "\n",
        "    # insere 1's por causa do bias\n",
        "    x = np.hstack((np.ones((Nteste, 1)), x))\n",
        "    J_MSE = np.zeros((Nteste, 1))\n",
        "    y_oculta = np.zeros((Nteste, N))\n",
        "    y = np.zeros((Nteste, 1))\n",
        "    e = np.zeros((Nteste, 1))\n",
        "    b = 1\n",
        "\n",
        "    v = np.zeros((N, 1))\n",
        "    X1 = np.zeros((1, 2))\n",
        "\n",
        "    for n in range(Nteste):\n",
        "        X1 = x[n, :]\n",
        "\n",
        "        # cálculo progressivo com os pesos fixos da última época\n",
        "        for i in range(N):\n",
        "            v[i, :] = w[:, i] @ X1\n",
        "            y_oculta[:, i] = sigmoid(v[i, :])\n",
        "\n",
        "        X2 = np.hstack((b, y_oculta[n, :]))\n",
        "        v1_2 = X2 @ W1_2.T\n",
        "        y1_2 = sigmoid(v1_2)\n",
        "\n",
        "        y[n, :] = y1_2\n",
        "        e[n, :] = d[n, :] - y[n, :]\n",
        "        J_MSE[n] = (J_MSE[n] + (np.linalg.norm(e[n, :])) ** 2) / (1)\n",
        "\n",
        "    return J_MSE, y"
      ]
    },
    {
      "cell_type": "markdown",
      "id": "d403cecc-9349-41d7-a3f0-715b8e2502c5",
      "metadata": {
        "id": "d403cecc-9349-41d7-a3f0-715b8e2502c5"
      },
      "source": [
        "Teste da rede neural treinada"
      ]
    },
    {
      "cell_type": "code",
      "execution_count": null,
      "id": "48d55ca4-534a-48e3-b462-4b02d4392437",
      "metadata": {
        "id": "48d55ca4-534a-48e3-b462-4b02d4392437"
      },
      "outputs": [],
      "source": [
        "N_teste = 1000\n",
        "dominio_teste = np.linspace(1, 100, N_teste)\n",
        "x_teste = dominio_teste.reshape(-1, 1)\n",
        "d_teste = function_1(dominio_teste)\n",
        "d_teste = d_teste.reshape(N_teste, 1)"
      ]
    },
    {
      "cell_type": "markdown",
      "id": "364dd503-78db-4513-ba45-48779547c89e",
      "metadata": {
        "id": "364dd503-78db-4513-ba45-48779547c89e"
      },
      "source": [
        "Teste dos diversos modelos"
      ]
    },
    {
      "cell_type": "code",
      "execution_count": null,
      "id": "2f2eba32-df60-46ce-8b7c-8cefa9dcbfa8",
      "metadata": {
        "id": "2f2eba32-df60-46ce-8b7c-8cefa9dcbfa8"
      },
      "outputs": [],
      "source": [
        "(J_MSEteste_3_1, yteste_3_1) = redeMLP_teste_21(x_teste, d_teste, w_3, W1_2_3, N_teste, N_3)\n",
        "(J_MSEteste_4_1, yteste_4_1) = redeMLP_teste_21(x_teste, d_teste, w_4, W1_2_4, N_teste, N_4)\n",
        "(J_MSEteste_5_1, yteste_5_1) = redeMLP_teste_21(x_teste, d_teste, w_5, W1_2_5, N_teste, N_5)\n",
        "(J_MSEteste_10_1, yteste_10_1) = redeMLP_teste_21(x_teste, d_teste, w_10, W1_2_10, N_teste, N_10)\n",
        "(J_MSEteste_15_1, yteste_15_1) = redeMLP_teste_21(x_teste, d_teste, w_15, W1_2_15, N_teste, N_15)\n",
        "(J_MSEteste_20_1, yteste_20_1) = redeMLP_teste_21(x_teste, d_teste, w_20, W1_2_20, N_teste, N_20)\n",
        "(J_MSEteste_50_1, yteste_50_1) = redeMLP_teste_21(x_teste, d_teste, w_50, W1_2_50, N_teste, N_50)\n",
        "(J_MSEteste_100_1, yteste_100_1) = redeMLP_teste_21(x_teste, d_teste, w_100, W1_2_100, N_teste, N_100)"
      ]
    },
    {
      "cell_type": "code",
      "execution_count": null,
      "id": "94f0b817-18dd-48a4-8534-c3411e1959be",
      "metadata": {
        "id": "94f0b817-18dd-48a4-8534-c3411e1959be",
        "outputId": "2a192269-e325-48ca-c08b-c51b168ec547",
        "colab": {
          "base_uri": "https://localhost:8080/",
          "height": 472
        }
      },
      "outputs": [
        {
          "output_type": "display_data",
          "data": {
            "text/plain": [
              "<Figure size 640x480 with 1 Axes>"
            ],
            "image/png": "[encoded data removed]"
          },
          "metadata": {}
        }
      ],
      "source": [
        "# Plot both sets of data on the same graphic\n",
        "plt.plot(dominio_teste, d_teste, label='Função')\n",
        "plt.plot(dominio_teste, yteste_3_1, label='N = 3', linewidth = 0.5)\n",
        "plt.plot(dominio_teste, yteste_4_1, label='N = 4', linewidth = 0.5)\n",
        "plt.plot(dominio_teste, yteste_5_1, label='N = 5', linewidth = 0.5)\n",
        "plt.plot(dominio_teste, yteste_10_1, label='N = 10', linewidth = 0.5)\n",
        "plt.plot(dominio_teste, yteste_15_1, label='N = 15', linewidth = 0.5)\n",
        "plt.plot(dominio_teste, yteste_20_1, label='N = 20', linewidth = 0.5)\n",
        "plt.plot(dominio_teste, yteste_50_1, label='N = 50', linewidth = 0.5)\n",
        "plt.plot(dominio_teste, yteste_100_1, label='N = 100', linewidth = 0.5)\n",
        "\n",
        "# Add labels and a legend\n",
        "plt.xlabel('X-axis')\n",
        "plt.ylabel('Y-axis')\n",
        "plt.title('Comparativo')\n",
        "plt.legend()\n",
        "\n",
        "# Show the plot\n",
        "plt.show()"
      ]
    },
    {
      "cell_type": "markdown",
      "id": "e68efd0d-a930-4fbf-95e6-5f7136ecd543",
      "metadata": {
        "id": "e68efd0d-a930-4fbf-95e6-5f7136ecd543"
      },
      "source": [
        "# Segunda Função"
      ]
    },
    {
      "cell_type": "code",
      "execution_count": null,
      "id": "a929b66f-18c7-4629-8c03-10a8bd165dff",
      "metadata": {
        "id": "a929b66f-18c7-4629-8c03-10a8bd165dff",
        "outputId": "0324c13f-8782-4218-ffe5-e7f61f3c1f10",
        "colab": {
          "base_uri": "https://localhost:8080/"
        }
      },
      "outputs": [
        {
          "output_type": "stream",
          "name": "stdout",
          "text": [
            "(5500, 1)\n"
          ]
        }
      ],
      "source": [
        "Nt = 5500\n",
        "dominio = np.linspace(1, 10, Nt, endpoint=True)\n",
        "x_2 = dominio.reshape(Nt, 1)\n",
        "function_2 = lambda x : np.log10(x)\n",
        "d_2 = function_2(dominio)\n",
        "d_2 = d_2.reshape(Nt, 1)\n",
        "print(d_2.shape)"
      ]
    },
    {
      "cell_type": "code",
      "execution_count": null,
      "id": "5ea88b66-ea4f-4039-bf77-0a80c062185d",
      "metadata": {
        "id": "5ea88b66-ea4f-4039-bf77-0a80c062185d"
      },
      "outputs": [],
      "source": [
        "# Parâmetros da rede\n",
        "\n",
        "# passo de adaptação do algoritmo backpropagation\n",
        "eta = 0.9\n",
        "\n",
        "# Tamanho do mini-batch\n",
        "Nb = 11\n",
        "\n",
        "# Número de épocas\n",
        "Ne = 500"
      ]
    },
    {
      "cell_type": "code",
      "execution_count": null,
      "id": "c5d91133-6e51-4118-b7b3-c3843bff1ed9",
      "metadata": {
        "id": "c5d91133-6e51-4118-b7b3-c3843bff1ed9"
      },
      "outputs": [],
      "source": [
        "# Inicialização doo peso da camada oculta\n",
        "W01_2_3 = 0.02 * np.random.rand(1, N_3 + 1) - 0.01\n",
        "W01_2_4 = 0.02 * np.random.rand(1, N_4 + 1) - 0.01\n",
        "W01_2_5 = 0.02 * np.random.rand(1, N_5 + 1) - 0.01\n",
        "W01_2_10 = 0.02 * np.random.rand(1, N_10 + 1) - 0.01\n",
        "W01_2_15 = 0.02 * np.random.rand(1, N_15 + 1) - 0.01\n",
        "W01_2_20 = 0.02 * np.random.rand(1, N_20 + 1) - 0.01\n",
        "W01_2_50 = 0.02 * np.random.rand(1, N_50 + 1) - 0.01\n",
        "W01_2_100 = 0.02 * np.random.rand(1, N_100 + 1) - 0.01"
      ]
    },
    {
      "cell_type": "code",
      "execution_count": null,
      "id": "f6f96d83-905a-47e2-8a6c-f443bc96a6a9",
      "metadata": {
        "id": "f6f96d83-905a-47e2-8a6c-f443bc96a6a9"
      },
      "outputs": [],
      "source": [
        "(J_MSE_3_2, w_3, W1_2_3) = redeMLP_21(x_2, d_2, eta, Nt, Nb, Ne, N_3, W01_2_3)\n",
        "(J_MSE_4_2, w_4, W1_2_4) = redeMLP_21(x_2, d_2, eta, Nt, Nb, Ne, N_4, W01_2_4)\n",
        "(J_MSE_5_2, w_5, W1_2_5) = redeMLP_21(x_2, d_2, eta, Nt, Nb, Ne, N_5, W01_2_5)\n",
        "(J_MSE_10_2, w_10, W1_2_10) = redeMLP_21(x_2, d_2, eta, Nt, Nb, Ne, N_10, W01_2_10)\n",
        "(J_MSE_15_2, w_15, W1_2_15) = redeMLP_21(x_2, d_2, eta, Nt, Nb, Ne, N_15, W01_2_15)\n",
        "(J_MSE_20_2, w_20, W1_2_20) = redeMLP_21(x_2, d_2, eta, Nt, Nb, Ne, N_20, W01_2_20)\n",
        "(J_MSE_50_2, w_50, W1_2_50) = redeMLP_21(x_2, d_2, eta, Nt, Nb, Ne, N_50, W01_2_50)\n",
        "(J_MSE_100_2, w_100, W1_2_100) = redeMLP_21(x_2, d_2, eta, Nt, Nb, Ne, N_100, W01_2_100)"
      ]
    },
    {
      "cell_type": "code",
      "execution_count": null,
      "id": "1a466f4d-fb6a-4a9d-8131-2d0898b46658",
      "metadata": {
        "id": "1a466f4d-fb6a-4a9d-8131-2d0898b46658"
      },
      "outputs": [],
      "source": [
        "N_teste = 1000\n",
        "dominio_teste = np.linspace(1, 10, N_teste)\n",
        "x_teste = dominio_teste.reshape(-1, 1)\n",
        "d_teste = function_2(dominio_teste)\n",
        "d_teste = d_teste.reshape(N_teste, 1)"
      ]
    },
    {
      "cell_type": "code",
      "execution_count": null,
      "id": "7f59f6b2-16c9-4602-b2e4-bf12a2b1bc10",
      "metadata": {
        "id": "7f59f6b2-16c9-4602-b2e4-bf12a2b1bc10"
      },
      "outputs": [],
      "source": [
        "(J_MSEteste_3_2, yteste_3_2) = redeMLP_teste_21(x_teste, d_teste, w_3, W1_2_3, N_teste, N_3)\n",
        "(J_MSEteste_4_2, yteste_4_2) = redeMLP_teste_21(x_teste, d_teste, w_4, W1_2_4, N_teste, N_4)\n",
        "(J_MSEteste_5_2, yteste_5_2) = redeMLP_teste_21(x_teste, d_teste, w_5, W1_2_5, N_teste, N_5)\n",
        "(J_MSEteste_10_2, yteste_10_2) = redeMLP_teste_21(x_teste, d_teste, w_10, W1_2_10, N_teste, N_10)\n",
        "(J_MSEteste_15_2, yteste_15_2) = redeMLP_teste_21(x_teste, d_teste, w_15, W1_2_15, N_teste, N_15)\n",
        "(J_MSEteste_20_2, yteste_20_2) = redeMLP_teste_21(x_teste, d_teste, w_20, W1_2_20, N_teste, N_20)\n",
        "(J_MSEteste_50_2, yteste_50_2) = redeMLP_teste_21(x_teste, d_teste, w_50, W1_2_50, N_teste, N_50)\n",
        "(J_MSEteste_100_2, yteste_100_2) = redeMLP_teste_21(x_teste, d_teste, w_100, W1_2_100, N_teste, N_100)"
      ]
    },
    {
      "cell_type": "code",
      "execution_count": null,
      "id": "53e06435-345f-4de9-9649-24cb0dcf578b",
      "metadata": {
        "id": "53e06435-345f-4de9-9649-24cb0dcf578b",
        "outputId": "88c867a7-cbd6-415b-f5c9-7ee297e5231f",
        "colab": {
          "base_uri": "https://localhost:8080/",
          "height": 472
        }
      },
      "outputs": [
        {
          "output_type": "display_data",
          "data": {
            "text/plain": [
              "<Figure size 640x480 with 1 Axes>"
            ],
            "image/png": "[encoded data removed]"
          },
          "metadata": {}
        }
      ],
      "source": [
        "# Plot both sets of data on the same graphic\n",
        "plt.plot(dominio_teste, d_teste, label='Função')\n",
        "plt.plot(dominio_teste, yteste_3_2, label='N = 3')\n",
        "plt.plot(dominio_teste, yteste_4_2, label='N = 4')\n",
        "plt.plot(dominio_teste, yteste_5_2, label='N = 5')\n",
        "plt.plot(dominio_teste, yteste_10_2, label='N = 10')\n",
        "plt.plot(dominio_teste, yteste_15_2, label='N = 15')\n",
        "plt.plot(dominio_teste, yteste_20_2, label='N = 20')\n",
        "plt.plot(dominio_teste, yteste_50_2, label='N = 50')\n",
        "plt.plot(dominio_teste, yteste_100_2, label='N = 100')\n",
        "\n",
        "# Add labels and a legend\n",
        "plt.xlabel('X-axis')\n",
        "plt.ylabel('Y-axis')\n",
        "plt.title('Comparativo')\n",
        "plt.legend()\n",
        "\n",
        "# Show the plot\n",
        "plt.show()"
      ]
    },
    {
      "cell_type": "markdown",
      "id": "2d066421-74d5-4de7-83e4-618b7387f9d4",
      "metadata": {
        "id": "2d066421-74d5-4de7-83e4-618b7387f9d4"
      },
      "source": [
        "# Terceira Função"
      ]
    },
    {
      "cell_type": "code",
      "execution_count": null,
      "id": "2e8ae3c5-59ab-4018-8863-2712d771abad",
      "metadata": {
        "id": "2e8ae3c5-59ab-4018-8863-2712d771abad",
        "outputId": "0b4406ad-5ce9-480b-c32d-02f6f2d5e1ba",
        "colab": {
          "base_uri": "https://localhost:8080/"
        }
      },
      "outputs": [
        {
          "output_type": "stream",
          "name": "stdout",
          "text": [
            "(5500, 1)\n"
          ]
        }
      ],
      "source": [
        "Nt = 5500\n",
        "dominio = np.linspace(1, 10, Nt, endpoint=True)\n",
        "x_3 = dominio.reshape(Nt, 1)\n",
        "function_3 = lambda x : np.exp(-x)\n",
        "d_3 = function_3(dominio)\n",
        "d_3 = d_3.reshape(Nt, 1)\n",
        "print(d_3.shape)"
      ]
    },
    {
      "cell_type": "code",
      "execution_count": null,
      "id": "d6057af0-132f-435e-8383-f66ec3d866ab",
      "metadata": {
        "id": "d6057af0-132f-435e-8383-f66ec3d866ab"
      },
      "outputs": [],
      "source": [
        "# Parâmetros da rede\n",
        "\n",
        "# passo de adaptação do algoritmo backpropagation\n",
        "eta = 0.9\n",
        "\n",
        "# Tamanho do mini-batch\n",
        "Nb = 11\n",
        "\n",
        "# Número de épocas\n",
        "Ne = 500"
      ]
    },
    {
      "cell_type": "code",
      "execution_count": null,
      "id": "77480f96-f159-4b22-972c-bc5e9c520985",
      "metadata": {
        "id": "77480f96-f159-4b22-972c-bc5e9c520985"
      },
      "outputs": [],
      "source": [
        "# Inicialização doo peso da camada oculta\n",
        "W01_2_3 = 0.02 * np.random.rand(1, N_3 + 1) - 0.01\n",
        "W01_2_4 = 0.02 * np.random.rand(1, N_4 + 1) - 0.01\n",
        "W01_2_5 = 0.02 * np.random.rand(1, N_5 + 1) - 0.01\n",
        "W01_2_10 = 00.2 * np.random.rand(1, N_10 + 1) - 0.01\n",
        "W01_2_15 = 0.02 * np.random.rand(1, N_15 + 1) - 0.01\n",
        "W01_2_20 = 0.02 * np.random.rand(1, N_20 + 1) - 0.01\n",
        "W01_2_50 = 0.02 * np.random.rand(1, N_50 + 1) - 0.01\n",
        "W01_2_100 = 0.02 * np.random.rand(1, N_100 + 1) - 0.01"
      ]
    },
    {
      "cell_type": "code",
      "execution_count": null,
      "id": "e82794b0-de44-46a5-bd02-a7975cf40404",
      "metadata": {
        "id": "e82794b0-de44-46a5-bd02-a7975cf40404"
      },
      "outputs": [],
      "source": [
        "(J_MSE_3_3, w_3, W1_2_3) = redeMLP_21(x_3, d_3, eta, Nt, Nb, Ne, N_3, W01_2_3)\n",
        "(J_MSE_4_3, w_4, W1_2_4) = redeMLP_21(x_3, d_3, eta, Nt, Nb, Ne, N_4, W01_2_4)\n",
        "(J_MSE_5_3, w_5, W1_2_5) = redeMLP_21(x_3, d_3, eta, Nt, Nb, Ne, N_5, W01_2_5)\n",
        "(J_MSE_10_3, w_10, W1_2_10) = redeMLP_21(x_3, d_3, eta, Nt, Nb, Ne, N_10, W01_2_10)\n",
        "(J_MSE_15_3, w_15, W1_2_15) = redeMLP_21(x_3, d_3, eta, Nt, Nb, Ne, N_15, W01_2_15)\n",
        "(J_MSE_20_3, w_20, W1_2_20) = redeMLP_21(x_3, d_3, eta, Nt, Nb, Ne, N_20, W01_2_20)\n",
        "(J_MSE_50_3, w_50, W1_2_50) = redeMLP_21(x_3, d_3, eta, Nt, Nb, Ne, N_50, W01_2_50)\n",
        "(J_MSE_100_3, w_100, W1_2_100) = redeMLP_21(x_3, d_3, eta, Nt, Nb, Ne, N_100, W01_2_100)"
      ]
    },
    {
      "cell_type": "code",
      "execution_count": null,
      "id": "75cc230a-7e66-418f-9aab-e03790efa140",
      "metadata": {
        "id": "75cc230a-7e66-418f-9aab-e03790efa140"
      },
      "outputs": [],
      "source": [
        "N_teste = 1000\n",
        "dominio_teste = np.linspace(1, 10, N_teste)\n",
        "x_teste = dominio_teste.reshape(-1, 1)\n",
        "d_teste = function_3(dominio_teste)\n",
        "d_teste = d_teste.reshape(N_teste, 1)"
      ]
    },
    {
      "cell_type": "code",
      "execution_count": null,
      "id": "7b21f52a-6e32-4d6e-9dcd-146101812f5a",
      "metadata": {
        "id": "7b21f52a-6e32-4d6e-9dcd-146101812f5a"
      },
      "outputs": [],
      "source": [
        "(J_MSEteste_3_3, yteste_3_3) = redeMLP_teste_21(x_teste, d_teste, w_3, W1_2_3, N_teste, N_3)\n",
        "(J_MSEteste_4_3, yteste_4_3) = redeMLP_teste_21(x_teste, d_teste, w_4, W1_2_4, N_teste, N_4)\n",
        "(J_MSEteste_5_3, yteste_5_3) = redeMLP_teste_21(x_teste, d_teste, w_5, W1_2_5, N_teste, N_5)\n",
        "(J_MSEteste_10_3, yteste_10_3) = redeMLP_teste_21(x_teste, d_teste, w_10, W1_2_10, N_teste, N_10)\n",
        "(J_MSEteste_15_3, yteste_15_3) = redeMLP_teste_21(x_teste, d_teste, w_15, W1_2_15, N_teste, N_15)\n",
        "(J_MSEteste_20_3, yteste_20_3) = redeMLP_teste_21(x_teste, d_teste, w_20, W1_2_20, N_teste, N_20)\n",
        "(J_MSEteste_50_3, yteste_50_3) = redeMLP_teste_21(x_teste, d_teste, w_50, W1_2_50, N_teste, N_50)\n",
        "(J_MSEteste_100_3, yteste_100_3) = redeMLP_teste_21(x_teste, d_teste, w_100, W1_2_100, N_teste, N_100)"
      ]
    },
    {
      "cell_type": "code",
      "execution_count": null,
      "id": "d5d9bc3a-4648-46fb-89ab-792ae6ecc8a5",
      "metadata": {
        "id": "d5d9bc3a-4648-46fb-89ab-792ae6ecc8a5",
        "outputId": "00561f92-46ce-4b2b-ef11-42cf23e94b45",
        "colab": {
          "base_uri": "https://localhost:8080/",
          "height": 472
        }
      },
      "outputs": [
        {
          "output_type": "display_data",
          "data": {
            "text/plain": [
              "<Figure size 640x480 with 1 Axes>"
            ],
            "image/png": "[encoded data removed]"
          },
          "metadata": {}
        }
      ],
      "source": [
        "# Plot both sets of data on the same graphic\n",
        "plt.plot(dominio_teste, d_teste, label='Função')\n",
        "plt.plot(dominio_teste, yteste_3_3, label='N = 3')\n",
        "plt.plot(dominio_teste, yteste_4_3, label='N = 4')\n",
        "plt.plot(dominio_teste, yteste_5_3, label='N = 5')\n",
        "plt.plot(dominio_teste, yteste_10_3, label='N = 10')\n",
        "plt.plot(dominio_teste, yteste_15_3, label='N = 15')\n",
        "plt.plot(dominio_teste, yteste_20_3, label='N = 20')\n",
        "plt.plot(dominio_teste, yteste_50_3, label='N = 50')\n",
        "plt.plot(dominio_teste, yteste_100_3, label='N = 100')\n",
        "\n",
        "# Add labels and a legend\n",
        "plt.xlabel('X-axis')\n",
        "plt.ylabel('Y-axis')\n",
        "plt.title('Comparativo')\n",
        "plt.legend()\n",
        "\n",
        "# Show the plot\n",
        "plt.show()"
      ]
    },
    {
      "cell_type": "markdown",
      "id": "9f79761f-7061-4e84-a36f-e9c39eef3c90",
      "metadata": {
        "id": "9f79761f-7061-4e84-a36f-e9c39eef3c90"
      },
      "source": [
        "# Quarta Função"
      ]
    },
    {
      "cell_type": "code",
      "execution_count": null,
      "id": "67e027e6-d847-4fce-b4a2-e5cfd733d568",
      "metadata": {
        "id": "67e027e6-d847-4fce-b4a2-e5cfd733d568",
        "outputId": "25032906-d142-4099-ec67-900eeedff4e1",
        "colab": {
          "base_uri": "https://localhost:8080/"
        }
      },
      "outputs": [
        {
          "output_type": "stream",
          "name": "stdout",
          "text": [
            "(5500, 1)\n"
          ]
        }
      ],
      "source": [
        "Nt = 5500\n",
        "dominio = np.linspace(0, np.pi/2, Nt, endpoint=True)\n",
        "x_4 = dominio.reshape(Nt, 1)\n",
        "function_4 = lambda x : np.sin(x)\n",
        "d_4 = function_4(dominio)\n",
        "d_4 = d_4.reshape(Nt, 1)\n",
        "print(d_4.shape)"
      ]
    },
    {
      "cell_type": "code",
      "execution_count": null,
      "id": "eaaf1548-d338-4fbb-b573-83cfddafacac",
      "metadata": {
        "id": "eaaf1548-d338-4fbb-b573-83cfddafacac"
      },
      "outputs": [],
      "source": [
        "# Parâmetros da rede\n",
        "\n",
        "# passo de adaptação do algoritmo backpropagation\n",
        "eta = 0.9\n",
        "\n",
        "# Tamanho do mini-batch\n",
        "Nb = 11\n",
        "\n",
        "# Número de épocas\n",
        "Ne = 500"
      ]
    },
    {
      "cell_type": "code",
      "execution_count": null,
      "id": "42a05825-2a97-457a-8f99-4f38e06e7096",
      "metadata": {
        "id": "42a05825-2a97-457a-8f99-4f38e06e7096"
      },
      "outputs": [],
      "source": [
        "# Inicialização doo peso da camada oculta\n",
        "W01_2_3 = 0.02 * np.random.rand(1, N_3 + 1) - 0.01\n",
        "W01_2_4 = 0.02 * np.random.rand(1, N_4 + 1) - 0.01\n",
        "W01_2_5 = 0.02 * np.random.rand(1, N_5 + 1) - 0.01\n",
        "W01_2_10 = 0.02 * np.random.rand(1, N_10 + 1) - 0.01\n",
        "W01_2_15 = 0.02 * np.random.rand(1, N_15 + 1) - 0.01\n",
        "W01_2_20 = 0.02 * np.random.rand(1, N_20 + 1) - 0.01\n",
        "W01_2_50 = 0.02 * np.random.rand(1, N_50 + 1) - 0.01\n",
        "W01_2_100 = 0.02 * np.random.rand(1, N_100 + 1) - 0.01"
      ]
    },
    {
      "cell_type": "code",
      "execution_count": null,
      "id": "f2dc3242-6e90-4553-bf96-487981277689",
      "metadata": {
        "id": "f2dc3242-6e90-4553-bf96-487981277689"
      },
      "outputs": [],
      "source": [
        "(J_MSE_3_4, w_3, W1_2_3) = redeMLP_21(x_4, d_4, eta, Nt, Nb, Ne, N_3, W01_2_3)\n",
        "(J_MSE_4_4, w_4, W1_2_4) = redeMLP_21(x_4, d_4, eta, Nt, Nb, Ne, N_4, W01_2_4)\n",
        "(J_MSE_5_4, w_5, W1_2_5) = redeMLP_21(x_4, d_4, eta, Nt, Nb, Ne, N_5, W01_2_5)\n",
        "(J_MSE_10_4, w_10, W1_2_10) = redeMLP_21(x_4, d_4, eta, Nt, Nb, Ne, N_10, W01_2_10)\n",
        "(J_MSE_15_4, w_15, W1_2_15) = redeMLP_21(x_4, d_4, eta, Nt, Nb, Ne, N_15, W01_2_15)\n",
        "(J_MSE_20_4, w_20, W1_2_20) = redeMLP_21(x_4, d_4, eta, Nt, Nb, Ne, N_20, W01_2_20)\n",
        "(J_MSE_50_4, w_50, W1_2_50) = redeMLP_21(x_4, d_4, eta, Nt, Nb, Ne, N_50, W01_2_50)\n",
        "(J_MSE_100_4, w_100, W1_2_100) = redeMLP_21(x_4, d_4, eta, Nt, Nb, Ne, N_100, W01_2_100)"
      ]
    },
    {
      "cell_type": "code",
      "execution_count": null,
      "id": "894cb7b1-2266-4f66-92ba-a90d95cafcd3",
      "metadata": {
        "id": "894cb7b1-2266-4f66-92ba-a90d95cafcd3"
      },
      "outputs": [],
      "source": [
        "N_teste = 1000\n",
        "dominio_teste = np.linspace(0, np.pi/2, N_teste)\n",
        "x_teste = dominio_teste.reshape(-1, 1)\n",
        "d_teste = function_4(dominio_teste)\n",
        "d_teste = d_teste.reshape(N_teste, 1)"
      ]
    },
    {
      "cell_type": "code",
      "execution_count": null,
      "id": "acc2e541-0ebf-4f07-8283-e85d66886ae3",
      "metadata": {
        "id": "acc2e541-0ebf-4f07-8283-e85d66886ae3"
      },
      "outputs": [],
      "source": [
        "(J_MSEteste_3_4, yteste_3_4) = redeMLP_teste_21(x_teste, d_teste, w_3, W1_2_3, N_teste, N_3)\n",
        "(J_MSEteste_4_4, yteste_4_4) = redeMLP_teste_21(x_teste, d_teste, w_4, W1_2_4, N_teste, N_4)\n",
        "(J_MSEteste_5_4, yteste_5_4) = redeMLP_teste_21(x_teste, d_teste, w_5, W1_2_5, N_teste, N_5)\n",
        "(J_MSEteste_10_4, yteste_10_4) = redeMLP_teste_21(x_teste, d_teste, w_10, W1_2_10, N_teste, N_10)\n",
        "(J_MSEteste_15_4, yteste_15_4) = redeMLP_teste_21(x_teste, d_teste, w_15, W1_2_15, N_teste, N_15)\n",
        "(J_MSEteste_20_4, yteste_20_4) = redeMLP_teste_21(x_teste, d_teste, w_20, W1_2_20, N_teste, N_20)\n",
        "(J_MSEteste_50_4, yteste_50_4) = redeMLP_teste_21(x_teste, d_teste, w_50, W1_2_50, N_teste, N_50)\n",
        "(J_MSEteste_100_4, yteste_100_4) = redeMLP_teste_21(x_teste, d_teste, w_100, W1_2_100, N_teste, N_100)"
      ]
    },
    {
      "cell_type": "code",
      "execution_count": null,
      "id": "ea61525b-f083-4cc0-9132-b0adcfabbf92",
      "metadata": {
        "id": "ea61525b-f083-4cc0-9132-b0adcfabbf92",
        "outputId": "f52f815c-d1e0-4853-8114-0031017c5156",
        "colab": {
          "base_uri": "https://localhost:8080/",
          "height": 472
        }
      },
      "outputs": [
        {
          "output_type": "display_data",
          "data": {
            "text/plain": [
              "<Figure size 640x480 with 1 Axes>"
            ],
            "image/png": "[encoded data removed]"
          },
          "metadata": {}
        }
      ],
      "source": [
        "# Plot both sets of data on the same graphic\n",
        "plt.plot(dominio_teste, d_teste, label='Função')\n",
        "plt.plot(dominio_teste, yteste_3_4, label='N = 3')\n",
        "plt.plot(dominio_teste, yteste_4_4, label='N = 4')\n",
        "plt.plot(dominio_teste, yteste_5_4, label='N = 5')\n",
        "plt.plot(dominio_teste, yteste_10_4, label='N = 10')\n",
        "plt.plot(dominio_teste, yteste_15_4, label='N = 15')\n",
        "plt.plot(dominio_teste, yteste_20_4, label='N = 20')\n",
        "plt.plot(dominio_teste, yteste_50_4, label='N = 50')\n",
        "plt.plot(dominio_teste, yteste_100_4, label='N = 100')\n",
        "\n",
        "# Add labels and a legend\n",
        "plt.xlabel('X-axis')\n",
        "plt.ylabel('Y-axis')\n",
        "plt.title('Comparativo')\n",
        "plt.legend()\n",
        "\n",
        "# Show the plot\n",
        "plt.show()"
      ]
    },
    {
      "cell_type": "markdown",
      "id": "08aa634f-d689-4938-af19-95e706bb3af7",
      "metadata": {
        "id": "08aa634f-d689-4938-af19-95e706bb3af7"
      },
      "source": [
        "# Comparativo Completo"
      ]
    },
    {
      "cell_type": "code",
      "execution_count": null,
      "id": "eaa5c40e-1f9e-4db4-a068-63373fea7b03",
      "metadata": {
        "id": "eaa5c40e-1f9e-4db4-a068-63373fea7b03",
        "outputId": "938b1e0a-65f1-4752-ebe8-a1b2150b9c61",
        "colab": {
          "base_uri": "https://localhost:8080/"
        }
      },
      "outputs": [
        {
          "output_type": "stream",
          "name": "stdout",
          "text": [
            "+-----------------+----------------------------------+-----------------------+\n",
            "|     Função      | N° de Neurônios na camada oculta | Erro quadrático médio |\n",
            "+-----------------+----------------------------------+-----------------------+\n",
            "|   f(x) = 1/x    |                3                 |   [2.51287806e-05]    |\n",
            "|   f(x) = 1/x    |                4                 |   [2.52595185e-05]    |\n",
            "|   f(x) = 1/x    |                5                 |   [1.75207747e-05]    |\n",
            "|   f(x) = 1/x    |                10                |   [2.51110752e-05]    |\n",
            "|   f(x) = 1/x    |                15                |   [2.86884423e-05]    |\n",
            "|   f(x) = 1/x    |                20                |    [3.0610526e-05]    |\n",
            "|   f(x) = 1/x    |                50                |   [3.44750466e-05]    |\n",
            "|   f(x) = 1/x    |               100                |   [1.45086608e-05]    |\n",
            "| f(x) = log10(x) |                3                 |     [0.00014238]      |\n",
            "| f(x) = log10(x) |                4                 |     [0.00013672]      |\n",
            "| f(x) = log10(x) |                5                 |     [0.00013358]      |\n",
            "| f(x) = log10(x) |                10                |   [8.23807093e-05]    |\n",
            "| f(x) = log10(x) |                15                |   [9.36209202e-05]    |\n",
            "| f(x) = log10(x) |                20                |     [0.00010005]      |\n",
            "| f(x) = log10(x) |                50                |      [0.0001656]      |\n",
            "| f(x) = log10(x) |               100                |     [0.00010859]      |\n",
            "|  f(x) = e^(-x)  |                3                 |   [6.57403399e-06]    |\n",
            "|  f(x) = e^(-x)  |                4                 |   [8.28107034e-06]    |\n",
            "|  f(x) = e^(-x)  |                5                 |    [9.5504768e-06]    |\n",
            "|  f(x) = e^(-x)  |                10                |   [5.92797214e-06]    |\n",
            "|  f(x) = e^(-x)  |                15                |   [6.09522846e-06]    |\n",
            "|  f(x) = e^(-x)  |                20                |    [5.4803645e-06]    |\n",
            "|  f(x) = e^(-x)  |                50                |   [3.34885005e-06]    |\n",
            "|  f(x) = e^(-x)  |               100                |   [2.66545169e-06]    |\n",
            "|  f(x) = sen(x)  |                3                 |   [6.15445805e-05]    |\n",
            "|  f(x) = sen(x)  |                4                 |   [7.60481425e-05]    |\n",
            "|  f(x) = sen(x)  |                5                 |   [6.60452929e-05]    |\n",
            "|  f(x) = sen(x)  |                10                |     [0.00021273]      |\n",
            "|  f(x) = sen(x)  |                15                |     [0.00038282]      |\n",
            "|  f(x) = sen(x)  |                20                |     [0.00035685]      |\n",
            "|  f(x) = sen(x)  |                50                |      [0.0005993]      |\n",
            "|  f(x) = sen(x)  |               100                |     [0.00058867]      |\n",
            "+-----------------+----------------------------------+-----------------------+\n"
          ]
        }
      ],
      "source": [
        "# Criando um dicionário com os dados\n",
        "data = {\n",
        "    'Função': ['f(x) = 1/x', 'f(x) = 1/x', 'f(x) = 1/x', 'f(x) = 1/x', 'f(x) = 1/x', 'f(x) = 1/x', 'f(x) = 1/x', 'f(x) = 1/x',\n",
        "               'f(x) = log10(x)', 'f(x) = log10(x)', 'f(x) = log10(x)', 'f(x) = log10(x)', 'f(x) = log10(x)', 'f(x) = log10(x)', 'f(x) = log10(x)', 'f(x) = log10(x)',\n",
        "               'f(x) = e^(-x)', 'f(x) = e^(-x)', 'f(x) = e^(-x)', 'f(x) = e^(-x)', 'f(x) = e^(-x)', 'f(x) = e^(-x)', 'f(x) = e^(-x)', 'f(x) = e^(-x)',\n",
        "               'f(x) = sen(x)', 'f(x) = sen(x)', 'f(x) = sen(x)', 'f(x) = sen(x)', 'f(x) = sen(x)', 'f(x) = sen(x)', 'f(x) = sen(x)', 'f(x) = sen(x)'],\n",
        "    'N° de Neurônios na camada oculta': ['3', '4', '5', '10', '15', '20', '50', '100', '3', '4', '5', '10', '15', '20', '50', '100',\n",
        "                                        '3', '4', '5', '10', '15', '20', '50', '100', '3', '4', '5', '10', '15', '20', '50', '100'],\n",
        "    'Erro quadrático médio': [J_MSE_3_1[-1], J_MSE_4_1[-1], J_MSE_5_1[-1], J_MSE_10_1[-1], J_MSE_15_1[-1], J_MSE_20_1[-1], J_MSE_50_1[-1], J_MSE_100_1[-1],\n",
        "                              J_MSE_3_2[-1], J_MSE_4_2[-1], J_MSE_5_2[-1], J_MSE_10_2[-1], J_MSE_15_2[-1], J_MSE_20_2[-1], J_MSE_50_2[-1], J_MSE_100_2[-1],\n",
        "                              J_MSE_3_3[-1], J_MSE_4_3[-1], J_MSE_5_3[-1], J_MSE_10_3[-1], J_MSE_15_3[-1], J_MSE_20_3[-1], J_MSE_50_3[-1], J_MSE_100_3[-1],\n",
        "                              J_MSE_3_4[-1], J_MSE_4_4[-1], J_MSE_5_4[-1], J_MSE_10_4[-1], J_MSE_15_4[-1], J_MSE_20_4[-1], J_MSE_50_4[-1], J_MSE_100_4[-1]]\n",
        "}\n",
        "\n",
        "# Criando um DataFrame com os dados\n",
        "df = pd.DataFrame(data)\n",
        "\n",
        "# Exibindo a tabela\n",
        "print(tabulate(df, headers='keys', tablefmt='pretty', showindex=False))"
      ]
    }
  ],
  "metadata": {
    "kernelspec": {
      "display_name": "Python 3 (ipykernel)",
      "language": "python",
      "name": "python3"
    },
    "language_info": {
      "codemirror_mode": {
        "name": "ipython",
        "version": 3
      },
      "file_extension": ".py",
      "mimetype": "text/x-python",
      "name": "python",
      "nbconvert_exporter": "python",
      "pygments_lexer": "ipython3",
      "version": "3.12.2"
    },
    "colab": {
      "provenance": []
    }
  },
  "nbformat": 4,
  "nbformat_minor": 5
}
